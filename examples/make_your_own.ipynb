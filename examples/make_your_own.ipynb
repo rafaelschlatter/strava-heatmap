{
 "cells": [
  {
   "cell_type": "markdown",
   "metadata": {},
   "source": [
    "## Make your own heatmap based on Strava activities\n",
    "This notebook shows you how to create your own heatmap based on your Strava activities.\n",
    "\n",
    "You need to create a Strava API application in order to use their API. Follow the instructions on this page to create your app: <https://medium.com/@annthurium/getting-started-with-the-strava-api-a-tutorial-f3909496cd2d>\n",
    "\n",
    "After setting up the app, note down the following information (you will need it to run this notebook):\n",
    "- Client id\n",
    "- Client secret\n",
    "\n",
    "Enter the values in cell 4, and run the notebook (depending on how many activities you have in your Strava account, this might take several minutes).\n",
    "\n",
    "**Note:** Strava imposes some request limits (30'000/day, and 600/every 15min). "
   ]
  },
  {
   "cell_type": "code",
   "execution_count": null,
   "metadata": {},
   "outputs": [],
   "source": [
    "!pip install stravaio folium"
   ]
  },
  {
   "cell_type": "code",
   "execution_count": null,
   "metadata": {},
   "outputs": [],
   "source": [
    "import os\n",
    "import logging\n",
    "import folium\n",
    "from stravaio import StravaIO\n",
    "from stravaio import strava_oauth2"
   ]
  },
  {
   "cell_type": "code",
   "execution_count": null,
   "metadata": {},
   "outputs": [],
   "source": [
    "os.environ['STRAVA_CLIENT_ID'] = \"ENTER-YOUR-CLIENT-ID\"\n",
    "os.environ['STRAVA_CLIENT_SECRET'] = \"ENTER-YOUR-CLIENT-SECRET\""
   ]
  },
  {
   "cell_type": "code",
   "execution_count": null,
   "metadata": {},
   "outputs": [],
   "source": [
    "# This will open a browser, asking for permission to access your Strava account, click authorize to continue\n",
    "auth = strava_oauth2(client_id=os.environ[\"STRAVA_CLIENT_ID\"], client_secret=os.environ[\"STRAVA_CLIENT_SECRET\"])"
   ]
  },
  {
   "cell_type": "code",
   "execution_count": null,
   "metadata": {},
   "outputs": [],
   "source": [
    "client = StravaIO(access_token=auth[\"access_token\"])\n",
    "athlete = client.get_logged_in_athlete()\n",
    "activities = client.get_logged_in_athlete_activities(after=20170101)"
   ]
  },
  {
   "cell_type": "code",
   "execution_count": null,
   "metadata": {},
   "outputs": [],
   "source": [
    "m = folium.Map(\n",
    "    name=\"Strava Heatmap\",\n",
    "    tiles=\"cartodbdark_matter\",\n",
    "    location=[59.925,10.728123],\n",
    "    zoom_start=11.5,\n",
    "    control_scale=True\n",
    ")\n",
    "\n",
    "folium.TileLayer(\"cartodbdark_matter\").add_to(m)\n",
    "folium.TileLayer('cartodbpositron').add_to(m)\n",
    "folium.LayerControl().add_to(m)"
   ]
  },
  {
   "cell_type": "code",
   "execution_count": null,
   "metadata": {},
   "outputs": [],
   "source": [
    "def downsample(l, n):\n",
    "    \"\"\"Returns every nth element from list l. Returns the\n",
    "    original list if n is set to 1.\n",
    "    Used to reduce the number of GPS points per activity,\n",
    "    to improve performance of the website.\n",
    "    \"\"\"\n",
    "    \n",
    "    return l[0::n]\n",
    "\n",
    "def map_activities(activities, folium_map, opacity=0.5, weight=1):\n",
    "    if len(activities) == 0:\n",
    "        logging.info(\"No activities found, returning empty folium map.\")\n",
    "        return folium_map\n",
    "\n",
    "    counter = 0\n",
    "    for a in activities:\n",
    "        if a.type == \"Workout\":\n",
    "            continue\n",
    "        streams = client.get_activity_streams(a.id, athlete.id)\n",
    "        try:\n",
    "            points = list(zip(streams.lat, streams.lng))\n",
    "            points = downsample(l=points, n=2)\n",
    "            if a.type == \"Run\":\n",
    "                folium.PolyLine(\n",
    "                    locations=points, color=\"#ff9933\", opacity=opacity, weight=weight\n",
    "                ).add_to(folium_map)\n",
    "            elif a.type == \"Ride\":\n",
    "                folium.PolyLine(\n",
    "                    locations=points, color=\"#0066ff\", opacity=opacity, weight=weight\n",
    "                ).add_to(folium_map)\n",
    "            elif a.type == \"NordicSki\":\n",
    "                folium.PolyLine(\n",
    "                    locations=points, color=\"#00ffff\", opacity=opacity, weight=weight\n",
    "                ).add_to(folium_map)\n",
    "            elif a.type == \"AlpineSki\":\n",
    "                folium.PolyLine(\n",
    "                    locations=points, color=\"#00ccff\", opacity=opacity, weight=weight\n",
    "                ).add_to(folium_map)\n",
    "            elif a.type == \"Canoeing\":\n",
    "                folium.PolyLine(\n",
    "                    locations=points, color=\"#00ff55\", opacity=opacity, weight=weight\n",
    "                ).add_to(folium_map)\n",
    "            elif a.type == \"IceSkate\":\n",
    "                folium.PolyLine(\n",
    "                    locations=points, color=\"#f6ff00\", opacity=opacity, weight=weight\n",
    "                ).add_to(folium_map)\n",
    "            else:\n",
    "                folium.PolyLine(\n",
    "                    locations=points, color=\"#cc00ff\", opacity=opacity, weight=weight\n",
    "                ).add_to(folium_map)\n",
    "            logging.critical(\"Mapped activity with id: {}\".format(a.id))\n",
    "        except Exception:\n",
    "            logging.error(\"Could not map activity with id: {}\".format(a.id))\n",
    "            \n",
    "    return folium_map"
   ]
  },
  {
   "cell_type": "code",
   "execution_count": null,
   "metadata": {},
   "outputs": [],
   "source": [
    "m = map_activities(\n",
    "    activities=activities,\n",
    "    folium_map=m,\n",
    "    opacity=0.5,\n",
    "    weight=2\n",
    ")"
   ]
  },
  {
   "cell_type": "code",
   "execution_count": null,
   "metadata": {},
   "outputs": [],
   "source": [
    "m"
   ]
  }
 ],
 "metadata": {
  "kernelspec": {
   "display_name": "Python 3",
   "language": "python",
   "name": "python3"
  },
  "language_info": {
   "codemirror_mode": {
    "name": "ipython",
    "version": 3
   },
   "file_extension": ".py",
   "mimetype": "text/x-python",
   "name": "python",
   "nbconvert_exporter": "python",
   "pygments_lexer": "ipython3",
   "version": "3.6.8"
  }
 },
 "nbformat": 4,
 "nbformat_minor": 4
}
